{
 "cells": [
  {
   "cell_type": "code",
   "execution_count": 5,
   "metadata": {},
   "outputs": [],
   "source": [
    "import pandas as pd\n",
    "import numpy as np"
   ]
  },
  {
   "cell_type": "code",
   "execution_count": 2,
   "metadata": {},
   "outputs": [],
   "source": [
    "df=pd.read_csv('ToneAnalyzer.csv')"
   ]
  },
  {
   "cell_type": "code",
   "execution_count": 3,
   "metadata": {},
   "outputs": [
    {
     "data": {
      "text/html": [
       "<div>\n",
       "<style scoped>\n",
       "    .dataframe tbody tr th:only-of-type {\n",
       "        vertical-align: middle;\n",
       "    }\n",
       "\n",
       "    .dataframe tbody tr th {\n",
       "        vertical-align: top;\n",
       "    }\n",
       "\n",
       "    .dataframe thead th {\n",
       "        text-align: right;\n",
       "    }\n",
       "</style>\n",
       "<table border=\"1\" class=\"dataframe\">\n",
       "  <thead>\n",
       "    <tr style=\"text-align: right;\">\n",
       "      <th></th>\n",
       "      <th>Unnamed: 0</th>\n",
       "      <th>usernameTweet</th>\n",
       "      <th>text</th>\n",
       "      <th>nbr_retweet</th>\n",
       "      <th>nbr_favorite</th>\n",
       "      <th>nbr_reply</th>\n",
       "      <th>datetime</th>\n",
       "      <th>is_reply</th>\n",
       "      <th>is_retweet</th>\n",
       "      <th>joy</th>\n",
       "      <th>analytical</th>\n",
       "      <th>sadness</th>\n",
       "      <th>confident</th>\n",
       "      <th>tentative</th>\n",
       "      <th>fear</th>\n",
       "      <th>anger</th>\n",
       "    </tr>\n",
       "  </thead>\n",
       "  <tbody>\n",
       "    <tr>\n",
       "      <th>0</th>\n",
       "      <td>0</td>\n",
       "      <td>Naveens27368191</td>\n",
       "      <td>DIPR COVID19  KarnatakaDIPR  MigrantKA    I h...</td>\n",
       "      <td>0</td>\n",
       "      <td>1</td>\n",
       "      <td>2</td>\n",
       "      <td>2020-05-06 14:58:38</td>\n",
       "      <td>False</td>\n",
       "      <td>False</td>\n",
       "      <td>NaN</td>\n",
       "      <td>NaN</td>\n",
       "      <td>NaN</td>\n",
       "      <td>NaN</td>\n",
       "      <td>NaN</td>\n",
       "      <td>NaN</td>\n",
       "      <td>NaN</td>\n",
       "    </tr>\n",
       "    <tr>\n",
       "      <th>1</th>\n",
       "      <td>1</td>\n",
       "      <td>wenagrutas</td>\n",
       "      <td>Oh  They deserve it because are working hard a...</td>\n",
       "      <td>1</td>\n",
       "      <td>3</td>\n",
       "      <td>0</td>\n",
       "      <td>2020-05-27 17:22:38</td>\n",
       "      <td>True</td>\n",
       "      <td>False</td>\n",
       "      <td>1.0</td>\n",
       "      <td>NaN</td>\n",
       "      <td>NaN</td>\n",
       "      <td>NaN</td>\n",
       "      <td>NaN</td>\n",
       "      <td>NaN</td>\n",
       "      <td>NaN</td>\n",
       "    </tr>\n",
       "    <tr>\n",
       "      <th>2</th>\n",
       "      <td>2</td>\n",
       "      <td>YouthSefton</td>\n",
       "      <td>Everyone is going to find the current Covid19 ...</td>\n",
       "      <td>7</td>\n",
       "      <td>4</td>\n",
       "      <td>0</td>\n",
       "      <td>2020-06-11 17:06:08</td>\n",
       "      <td>False</td>\n",
       "      <td>False</td>\n",
       "      <td>NaN</td>\n",
       "      <td>NaN</td>\n",
       "      <td>NaN</td>\n",
       "      <td>NaN</td>\n",
       "      <td>NaN</td>\n",
       "      <td>NaN</td>\n",
       "      <td>NaN</td>\n",
       "    </tr>\n",
       "    <tr>\n",
       "      <th>3</th>\n",
       "      <td>3</td>\n",
       "      <td>DemuxAcademy</td>\n",
       "      <td>Do you always tend to get clumsy in an awkward...</td>\n",
       "      <td>1</td>\n",
       "      <td>0</td>\n",
       "      <td>0</td>\n",
       "      <td>2020-05-13 12:00:02</td>\n",
       "      <td>False</td>\n",
       "      <td>False</td>\n",
       "      <td>NaN</td>\n",
       "      <td>1.0</td>\n",
       "      <td>NaN</td>\n",
       "      <td>NaN</td>\n",
       "      <td>NaN</td>\n",
       "      <td>NaN</td>\n",
       "      <td>NaN</td>\n",
       "    </tr>\n",
       "    <tr>\n",
       "      <th>4</th>\n",
       "      <td>4</td>\n",
       "      <td>perezlevi</td>\n",
       "      <td>Of course time slot matters but substitutes le...</td>\n",
       "      <td>0</td>\n",
       "      <td>0</td>\n",
       "      <td>0</td>\n",
       "      <td>2020-05-31 00:02:25</td>\n",
       "      <td>True</td>\n",
       "      <td>False</td>\n",
       "      <td>1.0</td>\n",
       "      <td>NaN</td>\n",
       "      <td>NaN</td>\n",
       "      <td>NaN</td>\n",
       "      <td>NaN</td>\n",
       "      <td>NaN</td>\n",
       "      <td>NaN</td>\n",
       "    </tr>\n",
       "  </tbody>\n",
       "</table>\n",
       "</div>"
      ],
      "text/plain": [
       "   Unnamed: 0    usernameTweet  \\\n",
       "0           0  Naveens27368191   \n",
       "1           1       wenagrutas   \n",
       "2           2      YouthSefton   \n",
       "3           3     DemuxAcademy   \n",
       "4           4        perezlevi   \n",
       "\n",
       "                                                text  nbr_retweet  \\\n",
       "0   DIPR COVID19  KarnatakaDIPR  MigrantKA    I h...            0   \n",
       "1  Oh  They deserve it because are working hard a...            1   \n",
       "2  Everyone is going to find the current Covid19 ...            7   \n",
       "3  Do you always tend to get clumsy in an awkward...            1   \n",
       "4  Of course time slot matters but substitutes le...            0   \n",
       "\n",
       "   nbr_favorite  nbr_reply             datetime  is_reply  is_retweet  joy  \\\n",
       "0             1          2  2020-05-06 14:58:38     False       False  NaN   \n",
       "1             3          0  2020-05-27 17:22:38      True       False  1.0   \n",
       "2             4          0  2020-06-11 17:06:08     False       False  NaN   \n",
       "3             0          0  2020-05-13 12:00:02     False       False  NaN   \n",
       "4             0          0  2020-05-31 00:02:25      True       False  1.0   \n",
       "\n",
       "   analytical  sadness  confident  tentative  fear  anger  \n",
       "0         NaN      NaN        NaN        NaN   NaN    NaN  \n",
       "1         NaN      NaN        NaN        NaN   NaN    NaN  \n",
       "2         NaN      NaN        NaN        NaN   NaN    NaN  \n",
       "3         1.0      NaN        NaN        NaN   NaN    NaN  \n",
       "4         NaN      NaN        NaN        NaN   NaN    NaN  "
      ]
     },
     "execution_count": 3,
     "metadata": {},
     "output_type": "execute_result"
    }
   ],
   "source": [
    "df.head()"
   ]
  },
  {
   "cell_type": "code",
   "execution_count": 6,
   "metadata": {},
   "outputs": [],
   "source": [
    "df = df.replace(to_replace =np.nan, \n",
    "                 value =False)\n",
    "df = df.replace(to_replace =1, \n",
    "                 value =True)"
   ]
  },
  {
   "cell_type": "code",
   "execution_count": 39,
   "metadata": {},
   "outputs": [],
   "source": [
    "anger = pd.DataFrame()\n",
    "anger['Anger Tweets'] = df['text'][df['anger']==True]\n",
    "anger.reset_index(drop=True, inplace=True)\n",
    "anger.to_csv('angerTweets.csv')"
   ]
  },
  {
   "cell_type": "code",
   "execution_count": 40,
   "metadata": {},
   "outputs": [],
   "source": [
    "joy = pd.DataFrame()\n",
    "joy['joy Tweets'] = df['text'][df['joy']==True]\n",
    "joy.reset_index(drop=True, inplace=True)\n",
    "joy.to_csv('joyTweets.csv')"
   ]
  },
  {
   "cell_type": "code",
   "execution_count": 41,
   "metadata": {},
   "outputs": [],
   "source": [
    "analytical = pd.DataFrame()\n",
    "analytical['analytical Tweets'] = df['text'][df['analytical']==True]\n",
    "analytical.reset_index(drop=True, inplace=True)\n",
    "analytical.to_csv('analyticalTweets.csv')"
   ]
  },
  {
   "cell_type": "code",
   "execution_count": 42,
   "metadata": {},
   "outputs": [],
   "source": [
    "sadness = pd.DataFrame()\n",
    "sadness['sadness Tweets'] = df['text'][df['sadness']==True]\n",
    "sadness.reset_index(drop=True, inplace=True)\n",
    "sadness.to_csv('sadnessTweets.csv')"
   ]
  },
  {
   "cell_type": "code",
   "execution_count": 43,
   "metadata": {},
   "outputs": [],
   "source": [
    "confident = pd.DataFrame()\n",
    "confident['confident Tweets'] = df['text'][df['confident']==True]\n",
    "confident.reset_index(drop=True, inplace=True)\n",
    "confident.to_csv('confidentTweets.csv')"
   ]
  },
  {
   "cell_type": "code",
   "execution_count": 44,
   "metadata": {},
   "outputs": [],
   "source": [
    "tentative = pd.DataFrame()\n",
    "tentative['tentative Tweets'] = df['text'][df['tentative']==True]\n",
    "tentative.reset_index(drop=True, inplace=True)\n",
    "tentative.to_csv('tentativeTweets.csv')"
   ]
  },
  {
   "cell_type": "code",
   "execution_count": 45,
   "metadata": {},
   "outputs": [],
   "source": [
    "fear = pd.DataFrame()\n",
    "fear['fear Tweets'] = df['text'][df['fear']==True]\n",
    "fear.reset_index(drop=True, inplace=True)\n",
    "fear.to_csv('fearTweets.csv')"
   ]
  },
  {
   "cell_type": "code",
   "execution_count": null,
   "metadata": {},
   "outputs": [],
   "source": []
  }
 ],
 "metadata": {
  "kernelspec": {
   "display_name": "Python 3",
   "language": "python",
   "name": "python3"
  },
  "language_info": {
   "codemirror_mode": {
    "name": "ipython",
    "version": 3
   },
   "file_extension": ".py",
   "mimetype": "text/x-python",
   "name": "python",
   "nbconvert_exporter": "python",
   "pygments_lexer": "ipython3",
   "version": "3.7.6"
  }
 },
 "nbformat": 4,
 "nbformat_minor": 4
}
